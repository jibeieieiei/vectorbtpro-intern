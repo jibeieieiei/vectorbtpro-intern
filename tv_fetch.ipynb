{
 "cells": [
  {
   "attachments": {},
   "cell_type": "markdown",
   "metadata": {},
   "source": [
    "# TV"
   ]
  },
  {
   "cell_type": "code",
   "execution_count": 16,
   "metadata": {},
   "outputs": [],
   "source": [
    "import numpy as np\n",
    "import pandas as pd\n",
    "import pandas_ta as ta\n",
    "from datetime import datetime,timedelta\n",
    "import plotly.express as px\n",
    "from numba import njit"
   ]
  },
  {
   "cell_type": "code",
   "execution_count": 17,
   "metadata": {},
   "outputs": [],
   "source": [
    "import vectorbtpro as vbt\n",
    "vbt.settings.set_theme(\"dark\")"
   ]
  },
  {
   "cell_type": "code",
   "execution_count": 18,
   "metadata": {},
   "outputs": [
    {
     "name": "stdout",
     "output_type": "stream",
     "text": [
      "<class 'pandas.core.frame.DataFrame'>\n"
     ]
    },
    {
     "data": {
      "text/plain": [
       "2276"
      ]
     },
     "execution_count": 18,
     "metadata": {},
     "output_type": "execute_result"
    }
   ],
   "source": [
    "data = vbt.TVData.fetch(\n",
    "    'NASDAQ:GOOG',\n",
    "    timeframe = '1 day',\n",
    ")\n",
    "print(type(data.get()))\n",
    "\n",
    "data.run(\"rsi\",14).rsi\n",
    "# vbt.EMA.run(close = data['Close'],length=14)\n",
    "# data\n",
    "# data.index = pd.to_datetime(data.index.date)\n",
    "# start_date = '2017-09-27' \n",
    "# end_date = '2023-03-31'\n",
    "# mask  = (data.index > start_date) & (data.index <= end_date)\n",
    "# # data = data.loc[mask]\n",
    "# data = data.round(2)\n",
    "# data\n",
    "len(data.get().loc[:,\"Close\"])\n",
    "len(data.get()[\"Close\"])"
   ]
  },
  {
   "cell_type": "code",
   "execution_count": 19,
   "metadata": {},
   "outputs": [
    {
     "data": {
      "text/plain": [
       "datetime\n",
       "2014-03-27 13:30:00+00:00    False\n",
       "2014-03-28 13:30:00+00:00    False\n",
       "2014-03-31 13:30:00+00:00    False\n",
       "2014-04-01 13:30:00+00:00    False\n",
       "2014-04-02 13:30:00+00:00    False\n",
       "                             ...  \n",
       "2023-04-04 13:30:00+00:00    False\n",
       "2023-04-05 13:30:00+00:00    False\n",
       "2023-04-06 13:30:00+00:00    False\n",
       "2023-04-10 13:30:00+00:00    False\n",
       "2023-04-11 13:30:00+00:00    False\n",
       "Length: 2276, dtype: bool"
      ]
     },
     "execution_count": 19,
     "metadata": {},
     "output_type": "execute_result"
    }
   ],
   "source": [
    "df = pd.DataFrame(data.get())\n",
    "# fast_ema = data.run(\"ema\", 10, hide_params=True)\n",
    "ema = vbt.IF.from_pandas_ta('EMA')\n",
    "# ema1 = EMA.run(df['Close'], length = 10).ema\n",
    "# fast_ema.real_crossed_above(20)\n",
    "a1 = ema.run(df['Close'], length = 10).ema\n",
    "a2 = ema.run(df['Close'], length = 20).ema\n",
    "a2.vbt.crossed_above(a1)\n",
    "# df['Entry'] = df[df['EMA35'] > df['EMA50']]\n",
    "# ema2 = vbt.IF.from_pandas_ta('EMA')\n",
    "# ema.run(df['Close'], length = 20).ema\n",
    "# fast_ema, slow_ema  = vbt.ema.run(close=df['Close'], length = 35).ema, vbt.ema.run(close=df['Close'], length = 50).ema\n",
    "# entries = fast_ema.vbt.crossed_above(slow_ema)\n"
   ]
  },
  {
   "cell_type": "code",
   "execution_count": 20,
   "metadata": {},
   "outputs": [],
   "source": [
    "# pf = vbt.PF.from_random_signals(\n",
    "#     data, \n",
    "#     n=1,\n",
    "#     tp_stop=0.5, \n",
    "#     sl_stop=0.1\n",
    "# )\n",
    "# pf.trade_history"
   ]
  },
  {
   "attachments": {},
   "cell_type": "markdown",
   "metadata": {},
   "source": [
    "# Check Indicator"
   ]
  },
  {
   "cell_type": "code",
   "execution_count": 21,
   "metadata": {},
   "outputs": [
    {
     "name": "stdout",
     "output_type": "stream",
     "text": [
      "Pandas TA - Technical Analysis Indicators - v0.3.14b0\n",
      "Total Indicators & Utilities: 205\n",
      "Abbreviations:\n",
      "    aberration, above, above_value, accbands, ad, adosc, adx, alma, amat, ao, aobv, apo, aroon, atr, bbands, below, below_value, bias, bop, brar, cci, cdl_pattern, cdl_z, cfo, cg, chop, cksp, cmf, cmo, coppock, cross, cross_value, cti, decay, decreasing, dema, dm, donchian, dpo, ebsw, efi, ema, entropy, eom, er, eri, fisher, fwma, ha, hilo, hl2, hlc3, hma, hwc, hwma, ichimoku, increasing, inertia, jma, kama, kc, kdj, kst, kurtosis, kvo, linreg, log_return, long_run, macd, mad, massi, mcgd, median, mfi, midpoint, midprice, mom, natr, nvi, obv, ohlc4, pdist, percent_return, pgo, ppo, psar, psl, pvi, pvo, pvol, pvr, pvt, pwma, qqe, qstick, quantile, rma, roc, rsi, rsx, rvgi, rvi, short_run, sinwma, skew, slope, sma, smi, squeeze, squeeze_pro, ssf, stc, stdev, stoch, stochrsi, supertrend, swma, t3, td_seq, tema, thermo, tos_stdevall, trima, trix, true_range, tsi, tsignals, ttm_trend, ui, uo, variance, vhf, vidya, vortex, vp, vwap, vwma, wcp, willr, wma, xsignals, zlma, zscore\n",
      "\n",
      "Candle Patterns:\n",
      "    2crows, 3blackcrows, 3inside, 3linestrike, 3outside, 3starsinsouth, 3whitesoldiers, abandonedbaby, advanceblock, belthold, breakaway, closingmarubozu, concealbabyswall, counterattack, darkcloudcover, doji, dojistar, dragonflydoji, engulfing, eveningdojistar, eveningstar, gapsidesidewhite, gravestonedoji, hammer, hangingman, harami, haramicross, highwave, hikkake, hikkakemod, homingpigeon, identical3crows, inneck, inside, invertedhammer, kicking, kickingbylength, ladderbottom, longleggeddoji, longline, marubozu, matchinglow, mathold, morningdojistar, morningstar, onneck, piercing, rickshawman, risefall3methods, separatinglines, shootingstar, shortline, spinningtop, stalledpattern, sticksandwich, takuri, tasukigap, thrusting, tristar, unique3river, upsidegap2crows, xsidegap3methods\n",
      "None\n"
     ]
    }
   ],
   "source": [
    "ind = pd.DataFrame()\n",
    "print(ind.ta.indicators())\n",
    "# vbt.IF.list_indicators(\"*ma\")"
   ]
  },
  {
   "attachments": {},
   "cell_type": "markdown",
   "metadata": {},
   "source": [
    "# EMA Function\n"
   ]
  },
  {
   "cell_type": "code",
   "execution_count": 22,
   "metadata": {},
   "outputs": [],
   "source": [
    "# data, , startdate, enddate, , , , , ,, , , , , , , , , , equal,length\n",
    "def EMA_CrossOver(symbol = None, timeframe = '1 day', sl_stop = None, tp_stop = None, tsl_stop = None, size = 1, max_size = None, init_cash = 100,\n",
    "                  fast_length = 15, slow_length = 50, start_date = None, end_date = None):\n",
    "    ''' \n",
    "    symbol = '{Market}:{Stock}'\n",
    "    start_date = '{Year}-{Month}-{Day}' \n",
    "    end_date = '{Year}-{Month}-{Day}'\n",
    "    slow_length = slow_ema\n",
    "    fast_length = fast_ema\n",
    "    tp_stop, sl_stop, tsl_stop = percentage / 100\n",
    "    '''\n",
    "    data = vbt.TVData.fetch(symbol, timeframe = timeframe)    \n",
    "    #initialize dataFrame\n",
    "    df = pd.DataFrame(data.get())\n",
    "    # df = df.round(2)\n",
    "    df.index = pd.to_datetime(df.index.date)\n",
    "   \n",
    "    # EMA\n",
    "    ema = vbt.IF.from_pandas_ta('EMA')\n",
    "    fast_ema, slow_ema  = ema.run(close = df['Close'], length = fast_length).ema, ema.run(close = df['Close'], length = slow_length).ema\n",
    "    entries = fast_ema.vbt.crossed_above(slow_ema)\n",
    "    exits = fast_ema.vbt.crossed_below(slow_ema)\n",
    "\n",
    "    # Datetime\n",
    "    if(start_date is not None and end_date is not None):\n",
    "        mask  = (df.index >= start_date) & (df.index <= end_date)\n",
    "        df = df.loc[mask]\n",
    "\n",
    "    pf = vbt.Portfolio.from_signals(open = df[\"Open\"], close = df[\"Close\"], high = df[\"High\"], low = df[\"Low\"], \n",
    "                                    entries = entries, exits = exits, sl_stop = sl_stop, tp_stop = tp_stop, tsl_stop = tsl_stop,\n",
    "                                    size = size, min_size = 1, max_size = max_size, init_cash = init_cash, price = 'NextOpen', stop_entry_price = 'FillPrice')\n",
    "    return pf"
   ]
  },
  {
   "cell_type": "code",
   "execution_count": 23,
   "metadata": {},
   "outputs": [
    {
     "name": "stderr",
     "output_type": "stream",
     "text": [
      "/Users/jib/opt/anaconda3/envs/vectorbt/lib/python3.8/site-packages/vectorbtpro/generic/stats_builder.py:463: UserWarning: Metric 'sharpe_ratio' requires frequency to be set\n",
      "  warnings.warn(warning_message)\n",
      "/Users/jib/opt/anaconda3/envs/vectorbt/lib/python3.8/site-packages/vectorbtpro/generic/stats_builder.py:463: UserWarning: Metric 'calmar_ratio' requires frequency to be set\n",
      "  warnings.warn(warning_message)\n",
      "/Users/jib/opt/anaconda3/envs/vectorbt/lib/python3.8/site-packages/vectorbtpro/generic/stats_builder.py:463: UserWarning: Metric 'omega_ratio' requires frequency to be set\n",
      "  warnings.warn(warning_message)\n",
      "/Users/jib/opt/anaconda3/envs/vectorbt/lib/python3.8/site-packages/vectorbtpro/generic/stats_builder.py:463: UserWarning: Metric 'sortino_ratio' requires frequency to be set\n",
      "  warnings.warn(warning_message)\n",
      "/Users/jib/opt/anaconda3/envs/vectorbt/lib/python3.8/site-packages/vectorbtpro/base/wrapping.py:961: UserWarning: Couldn't parse the frequency of index. Pass it as `freq` or define it globally under `settings.wrapping`.\n",
      "  return self.index_acc.arr_to_timedelta(*args, **kwargs)\n"
     ]
    },
    {
     "data": {
      "text/plain": [
       "Start                         2014-03-27 00:00:00\n",
       "End                           2023-04-11 00:00:00\n",
       "Period                                       2276\n",
       "Start Value                                1000.0\n",
       "Min Value                                996.3425\n",
       "Max Value                               1098.4755\n",
       "End Value                               1064.8815\n",
       "Total Return [%]                          6.48815\n",
       "Benchmark Return [%]                   281.071354\n",
       "Total Time Exposure [%]                 69.815466\n",
       "Max Gross Exposure [%]                  13.719833\n",
       "Max Drawdown [%]                         3.248912\n",
       "Max Drawdown Duration                       364.0\n",
       "Total Orders                                    8\n",
       "Total Fees Paid                               0.0\n",
       "Total Trades                                    4\n",
       "Win Rate [%]                                 50.0\n",
       "Best Trade [%]                          69.347784\n",
       "Worst Trade [%]                         -2.993051\n",
       "Avg Winning Trade [%]                   64.800874\n",
       "Avg Losing Trade [%]                    -2.458064\n",
       "Avg Winning Trade Duration                  667.5\n",
       "Avg Losing Trade Duration                   127.0\n",
       "Profit Factor                           24.036215\n",
       "Expectancy                              16.220375\n",
       "dtype: object"
      ]
     },
     "execution_count": 23,
     "metadata": {},
     "output_type": "execute_result"
    }
   ],
   "source": [
    "# EMA_CrossOver(symbol = 'NASDAQ:GOOG', init_cash = 1000, start_date = '2017-09-27' ,end_date = '2023-02-25', tp_stop = 0.1).stats(settings=dict(freq='d'))\n",
    "pf = EMA_CrossOver(symbol = 'NASDAQ:GOOG', init_cash = 1000, slow_length = 200, start_date = '2018-03-21', fast_length = 50)\n",
    "# pf.orders.records_readable\n",
    "# pf[ df.index == '2017-09-29']\n",
    "# pf.orders.records_readable\n",
    "#pf = pd.DataFrame(pf.orders.records_readable)\n",
    "# \n",
    "pf.stats()\n",
    "# help(EMA_CrossOver)\n",
    "# pf.plot().show()\n",
    "# pf.trade_history"
   ]
  },
  {
   "cell_type": "code",
   "execution_count": 24,
   "metadata": {},
   "outputs": [
    {
     "name": "stderr",
     "output_type": "stream",
     "text": [
      "/Users/jib/opt/anaconda3/envs/vectorbt/lib/python3.8/site-packages/vectorbtpro/generic/stats_builder.py:463: UserWarning: Metric 'sharpe_ratio' requires frequency to be set\n",
      "  warnings.warn(warning_message)\n",
      "/Users/jib/opt/anaconda3/envs/vectorbt/lib/python3.8/site-packages/vectorbtpro/generic/stats_builder.py:463: UserWarning: Metric 'calmar_ratio' requires frequency to be set\n",
      "  warnings.warn(warning_message)\n",
      "/Users/jib/opt/anaconda3/envs/vectorbt/lib/python3.8/site-packages/vectorbtpro/generic/stats_builder.py:463: UserWarning: Metric 'omega_ratio' requires frequency to be set\n",
      "  warnings.warn(warning_message)\n",
      "/Users/jib/opt/anaconda3/envs/vectorbt/lib/python3.8/site-packages/vectorbtpro/generic/stats_builder.py:463: UserWarning: Metric 'sortino_ratio' requires frequency to be set\n",
      "  warnings.warn(warning_message)\n",
      "/Users/jib/opt/anaconda3/envs/vectorbt/lib/python3.8/site-packages/vectorbtpro/base/wrapping.py:961: UserWarning: Couldn't parse the frequency of index. Pass it as `freq` or define it globally under `settings.wrapping`.\n",
      "  return self.index_acc.arr_to_timedelta(*args, **kwargs)\n"
     ]
    },
    {
     "data": {
      "text/plain": [
       "Start                         2014-03-27 00:00:00\n",
       "End                           2023-04-11 00:00:00\n",
       "Period                                       2276\n",
       "Start Value                                1000.0\n",
       "Min Value                                999.7665\n",
       "Max Value                               1018.3706\n",
       "End Value                               1018.3706\n",
       "Total Return [%]                          1.83706\n",
       "Benchmark Return [%]                    89.202638\n",
       "Total Time Exposure [%]                  3.514938\n",
       "Max Gross Exposure [%]                   7.354254\n",
       "Max Drawdown [%]                         0.521617\n",
       "Max Drawdown Duration                        18.0\n",
       "Total Orders                                    6\n",
       "Total Fees Paid                               0.0\n",
       "Total Trades                                    3\n",
       "Win Rate [%]                                100.0\n",
       "Best Trade [%]                               10.0\n",
       "Worst Trade [%]                              10.0\n",
       "Avg Winning Trade [%]                        10.0\n",
       "Avg Losing Trade [%]                          NaN\n",
       "Avg Winning Trade Duration              26.666667\n",
       "Avg Losing Trade Duration                     NaN\n",
       "Profit Factor                                 inf\n",
       "Expectancy                               6.123533\n",
       "dtype: object"
      ]
     },
     "execution_count": 24,
     "metadata": {},
     "output_type": "execute_result"
    }
   ],
   "source": [
    "# EMA_CrossOver(symbol = 'NASDAQ:GOOG', init_cash = 1000, start_date = '2017-09-27' ,end_date = '2023-02-25', tp_stop = 0.1).stats(settings=dict(freq='d'))\n",
    "pf = EMA_CrossOver(symbol = 'NASDAQ:GOOG', init_cash = 1000, start_date = '2017-09-27' ,end_date = '2023-02-25', tp_stop = 0.1, slow_length = 200, fast_length = 50)\n",
    "# pf.orders.records_readable\n",
    "# pf[ df.index == '2017-09-29']\n",
    "# pf.orders.records_readable\n",
    "#pf = pd.DataFrame(pf.orders.records_readable)\n",
    "\n",
    "pf.stats()\n",
    "# help(EMA_CrossOver)\n",
    "# pf.plot().show()\n",
    "# pf.trade_history"
   ]
  },
  {
   "attachments": {},
   "cell_type": "markdown",
   "metadata": {},
   "source": [
    "# Stochastic RSI\n",
    "\n",
    "## stochRSI = (RSI – Lowest Low RSI) / (Highest High RSI – Lowest Low RSI)\n",
    "1. overbought, oversold\n",
    "- stochRSI > 0.8 = overbought\n",
    "- stochRSI < 0.2 = oversold\n",
    "2. trend\n",
    "- stochRSI > 0.5 = uptrend\n",
    "- stochRSI < 0.5 = downtrend"
   ]
  },
  {
   "cell_type": "code",
   "execution_count": 25,
   "metadata": {},
   "outputs": [],
   "source": [
    "def StochRSI(symbol = None, timeframe = '1 day', sl_stop = None, tp_stop = None, tsl_stop = None, size = 1, max_size = None, init_cash = 100,\n",
    "                  fast_length = 15, slow_length = 50, start_date = None, end_date = None):\n",
    "    ''' \n",
    "    symbol = '{Market}:{Stock}'\n",
    "    start_date = '{Year}-{Month}-{Day}' \n",
    "    end_date = '{Year}-{Month}-{Day}'\n",
    "    slow_length = slow_ema\n",
    "    fast_length = fast_ema\n",
    "    tp_stop, sl_stop, tsl_stop = percentage / 100\n",
    "    '''\n",
    "    data = vbt.TVData.fetch(symbol, timeframe = timeframe)    \n",
    "    #initialize dataFrame\n",
    "    df = pd.DataFrame(data.get())\n",
    "    # df = df.round(2)\n",
    "    df.index = pd.to_datetime(df.index.date)\n",
    "   \n",
    "    # StochRSI\n",
    "    stochrsi = vbt.IF.from_pandas_ta('STOCHRSI')\n",
    "    fast_ema, slow_ema  = stochrsi.run(close = df['Close'], length = fast_length).stochrsi, stochrsi.run(close = df['Close'], length = slow_length).stochrsi\n",
    "    entries = fast_ema.vbt.crossed_above(slow_ema)\n",
    "    exits = fast_ema.vbt.crossed_below(slow_ema)\n",
    "\n",
    "    # Datetime\n",
    "    if(start_date is not None and end_date is not None):\n",
    "        mask  = (df.index >= start_date) & (df.index <= end_date)\n",
    "        df = df.loc[mask]\n",
    "\n",
    "    pf = vbt.Portfolio.from_signals(open = df[\"Open\"], close = df[\"Close\"], high = df[\"High\"], low = df[\"Low\"], \n",
    "                                    entries = entries, exits = exits, sl_stop = sl_stop, tp_stop = tp_stop, tsl_stop = tsl_stop,\n",
    "                                    size = size, min_size = 1, max_size = max_size, init_cash = init_cash, price = 'NextOpen', stop_entry_price = 'FillPrice')\n",
    "    return pf"
   ]
  },
  {
   "cell_type": "code",
   "execution_count": 26,
   "metadata": {},
   "outputs": [
    {
     "name": "stdout",
     "output_type": "stream",
     "text": [
      "STOCHRSI.run(\n",
      "    close,\n",
      "    length=Default(value=None),\n",
      "    rsi_length=Default(value=None),\n",
      "    k=Default(value=None),\n",
      "    d=Default(value=None),\n",
      "    mamode=Default(value=None),\n",
      "    offset=Default(value=None),\n",
      "    short_name='stochrsi',\n",
      "    hide_params=None,\n",
      "    hide_default=True,\n",
      "    **kwargs\n",
      "):\n",
      "    Run `STOCHRSI` indicator.\n",
      "    \n",
      "    * Inputs: `close`\n",
      "    * Parameters: `length`, `rsi_length`, `k`, `d`, `mamode`, `offset`\n",
      "    * Outputs: `stochrsik`, `stochrsid`\n",
      "    \n",
      "    Pass a list of parameter names as `hide_params` to hide their column levels, or True to hide all.\n",
      "    Set `hide_default` to False to show the column levels of the parameters with a default value.\n",
      "    \n",
      "    Other keyword arguments are passed to `STOCHRSI.run_pipeline`.\n"
     ]
    }
   ],
   "source": [
    "data = vbt.TVData.fetch('NASDAQ:GOOG', timeframe = '1 day')    \n",
    "#initialize dataFrame\n",
    "df = pd.DataFrame(data.get())\n",
    "# df = df.round(2)\n",
    "df.index = pd.to_datetime(df.index.date)\n",
    "ema = vbt.IF.from_pandas_ta('EMA')\n",
    "\n",
    "# StochRSI\n",
    "stochrsi = vbt.IF.from_pandas_ta('stochrsi')\n",
    "# fast_ema, slow_ema  = stochrsi.run(close = df['Close'], length = fast_length).stochrsi, stochrsi.run(close = df['Close'], length = slow_length).stochrsi\n",
    "vbt.phelp(stochrsi.run)"
   ]
  }
 ],
 "metadata": {
  "kernelspec": {
   "display_name": "vectorbt",
   "language": "python",
   "name": "python3"
  },
  "language_info": {
   "codemirror_mode": {
    "name": "ipython",
    "version": 3
   },
   "file_extension": ".py",
   "mimetype": "text/x-python",
   "name": "python",
   "nbconvert_exporter": "python",
   "pygments_lexer": "ipython3",
   "version": "3.8.16"
  },
  "orig_nbformat": 4
 },
 "nbformat": 4,
 "nbformat_minor": 2
}
