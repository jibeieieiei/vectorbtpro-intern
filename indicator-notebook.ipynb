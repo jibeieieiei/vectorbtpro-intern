{
 "cells": [
  {
   "cell_type": "code",
   "execution_count": 114,
   "metadata": {},
   "outputs": [],
   "source": [
    "import numpy as np\n",
    "import pandas as pd\n",
    "import pandas_ta as ta\n",
    "from datetime import datetime,timedelta\n",
    "import plotly.express as px"
   ]
  },
  {
   "cell_type": "code",
   "execution_count": 115,
   "metadata": {},
   "outputs": [],
   "source": [
    "import vectorbtpro as vbt\n",
    "vbt.settings.set_theme(\"dark\")"
   ]
  },
  {
   "cell_type": "code",
   "execution_count": 116,
   "metadata": {},
   "outputs": [],
   "source": [
    "# end_date = datetime.now()\n",
    "# start_date = end_date - timedelta(days=3)\n",
    "# btc_price = vbt.BinanceData.fetch(\n",
    "#     \"BTCUSDT\",\n",
    "#     start = start_date,\n",
    "#     end = end_date).get(\"Close\")\n",
    "# print(btc_price)\n",
    "# rsi = vbt.RSI.run(close=btc_price,window=[14,21])\n",
    "\n",
    "# print(rsi.rsi)\n",
    "\n",
    "# entries = rsi.rsi_crossed_below(30)\n",
    "# entries = rsi.rsi_below(30)\n",
    "# exits = rsi.rsi_crossed_above(70)\n",
    "\n",
    "# pf = vbt.Portfolio.from_signals(btc_price,entries,exits)\n",
    "# print(entries.to_string())\n",
    "# print(type(btc_price))\n",
    "# print(pf.stats())\n",
    "# pf.plot().show()\n",
    "# print(pf.total_return())"
   ]
  },
  {
   "attachments": {},
   "cell_type": "markdown",
   "metadata": {},
   "source": [
    "# Binance Fetch"
   ]
  },
  {
   "cell_type": "code",
   "execution_count": 117,
   "metadata": {},
   "outputs": [
    {
     "data": {
      "application/vnd.jupyter.widget-view+json": {
       "model_id": "1d443374afb048b6accf0dbd7ac50d84",
       "version_major": 2,
       "version_minor": 0
      },
      "text/plain": [
       "0it [00:00, ?it/s]"
      ]
     },
     "metadata": {},
     "output_type": "display_data"
    },
    {
     "name": "stdout",
     "output_type": "stream",
     "text": [
      "Open time\n",
      "2020-01-01 00:00:00+00:00     7200.85\n",
      "2020-01-02 00:00:00+00:00     6965.71\n",
      "2020-01-03 00:00:00+00:00     7344.96\n",
      "2020-01-04 00:00:00+00:00     7354.11\n",
      "2020-01-05 00:00:00+00:00     7358.75\n",
      "                               ...   \n",
      "2020-12-27 00:00:00+00:00    26281.66\n",
      "2020-12-28 00:00:00+00:00    27079.41\n",
      "2020-12-29 00:00:00+00:00    27385.00\n",
      "2020-12-30 00:00:00+00:00    28875.54\n",
      "2020-12-31 00:00:00+00:00    28923.63\n",
      "Freq: D, Name: Close, Length: 366, dtype: float64\n"
     ]
    }
   ],
   "source": [
    "data = vbt.BinanceData.fetch(\n",
    "    \"BTCUSDT\",\n",
    "    start=\"2020-01-01\",\n",
    "    end=\"2021-01-01\",\n",
    "    timeframe=\"1 day\"\n",
    ")\n",
    "print(data.get(\"Close\"))"
   ]
  },
  {
   "cell_type": "code",
   "execution_count": 118,
   "metadata": {},
   "outputs": [
    {
     "name": "stdout",
     "output_type": "stream",
     "text": [
      "Pandas TA - Technical Analysis Indicators - v0.3.14b0\n",
      "Total Indicators & Utilities: 205\n",
      "Abbreviations:\n",
      "    aberration, above, above_value, accbands, ad, adosc, adx, alma, amat, ao, aobv, apo, aroon, atr, bbands, below, below_value, bias, bop, brar, cci, cdl_pattern, cdl_z, cfo, cg, chop, cksp, cmf, cmo, coppock, cross, cross_value, cti, decay, decreasing, dema, dm, donchian, dpo, ebsw, efi, ema, entropy, eom, er, eri, fisher, fwma, ha, hilo, hl2, hlc3, hma, hwc, hwma, ichimoku, increasing, inertia, jma, kama, kc, kdj, kst, kurtosis, kvo, linreg, log_return, long_run, macd, mad, massi, mcgd, median, mfi, midpoint, midprice, mom, natr, nvi, obv, ohlc4, pdist, percent_return, pgo, ppo, psar, psl, pvi, pvo, pvol, pvr, pvt, pwma, qqe, qstick, quantile, rma, roc, rsi, rsx, rvgi, rvi, short_run, sinwma, skew, slope, sma, smi, squeeze, squeeze_pro, ssf, stc, stdev, stoch, stochrsi, supertrend, swma, t3, td_seq, tema, thermo, tos_stdevall, trima, trix, true_range, tsi, tsignals, ttm_trend, ui, uo, variance, vhf, vidya, vortex, vp, vwap, vwma, wcp, willr, wma, xsignals, zlma, zscore\n",
      "\n",
      "Candle Patterns:\n",
      "    2crows, 3blackcrows, 3inside, 3linestrike, 3outside, 3starsinsouth, 3whitesoldiers, abandonedbaby, advanceblock, belthold, breakaway, closingmarubozu, concealbabyswall, counterattack, darkcloudcover, doji, dojistar, dragonflydoji, engulfing, eveningdojistar, eveningstar, gapsidesidewhite, gravestonedoji, hammer, hangingman, harami, haramicross, highwave, hikkake, hikkakemod, homingpigeon, identical3crows, inneck, inside, invertedhammer, kicking, kickingbylength, ladderbottom, longleggeddoji, longline, marubozu, matchinglow, mathold, morningdojistar, morningstar, onneck, piercing, rickshawman, risefall3methods, separatinglines, shootingstar, shortline, spinningtop, stalledpattern, sticksandwich, takuri, tasukigap, thrusting, tristar, unique3river, upsidegap2crows, xsidegap3methods\n"
     ]
    }
   ],
   "source": [
    "df = pd.DataFrame()\n",
    "df.ta.indicators()"
   ]
  },
  {
   "cell_type": "code",
   "execution_count": 119,
   "metadata": {},
   "outputs": [
    {
     "data": {
      "text/html": [
       "<div>\n",
       "<style scoped>\n",
       "    .dataframe tbody tr th:only-of-type {\n",
       "        vertical-align: middle;\n",
       "    }\n",
       "\n",
       "    .dataframe tbody tr th {\n",
       "        vertical-align: top;\n",
       "    }\n",
       "\n",
       "    .dataframe thead th {\n",
       "        text-align: right;\n",
       "    }\n",
       "</style>\n",
       "<table border=\"1\" class=\"dataframe\">\n",
       "  <thead>\n",
       "    <tr style=\"text-align: right;\">\n",
       "      <th></th>\n",
       "      <th>time</th>\n",
       "      <th>open</th>\n",
       "      <th>high</th>\n",
       "      <th>low</th>\n",
       "      <th>close</th>\n",
       "      <th>EMA</th>\n",
       "      <th>Smoothing Line</th>\n",
       "    </tr>\n",
       "  </thead>\n",
       "  <tbody>\n",
       "    <tr>\n",
       "      <th>0</th>\n",
       "      <td>2017-09-27T13:30:00Z</td>\n",
       "      <td>46.387</td>\n",
       "      <td>47.49500</td>\n",
       "      <td>46.3870</td>\n",
       "      <td>47.2245</td>\n",
       "      <td>46.418617</td>\n",
       "      <td>46.392656</td>\n",
       "    </tr>\n",
       "    <tr>\n",
       "      <th>1</th>\n",
       "      <td>2017-09-28T13:30:00Z</td>\n",
       "      <td>47.068</td>\n",
       "      <td>47.53450</td>\n",
       "      <td>47.0275</td>\n",
       "      <td>47.4750</td>\n",
       "      <td>46.477305</td>\n",
       "      <td>46.408814</td>\n",
       "    </tr>\n",
       "    <tr>\n",
       "      <th>2</th>\n",
       "      <td>2017-09-29T13:30:00Z</td>\n",
       "      <td>47.600</td>\n",
       "      <td>47.98932</td>\n",
       "      <td>47.5755</td>\n",
       "      <td>47.9555</td>\n",
       "      <td>46.559427</td>\n",
       "      <td>46.441063</td>\n",
       "    </tr>\n",
       "    <tr>\n",
       "      <th>3</th>\n",
       "      <td>2017-10-02T13:30:00Z</td>\n",
       "      <td>47.999</td>\n",
       "      <td>48.12700</td>\n",
       "      <td>47.3920</td>\n",
       "      <td>47.6635</td>\n",
       "      <td>46.620764</td>\n",
       "      <td>46.489465</td>\n",
       "    </tr>\n",
       "    <tr>\n",
       "      <th>4</th>\n",
       "      <td>2017-10-03T13:30:00Z</td>\n",
       "      <td>47.700</td>\n",
       "      <td>47.90000</td>\n",
       "      <td>47.4570</td>\n",
       "      <td>47.8895</td>\n",
       "      <td>46.691250</td>\n",
       "      <td>46.553473</td>\n",
       "    </tr>\n",
       "    <tr>\n",
       "      <th>...</th>\n",
       "      <td>...</td>\n",
       "      <td>...</td>\n",
       "      <td>...</td>\n",
       "      <td>...</td>\n",
       "      <td>...</td>\n",
       "      <td>...</td>\n",
       "      <td>...</td>\n",
       "    </tr>\n",
       "    <tr>\n",
       "      <th>1382</th>\n",
       "      <td>2023-03-27T13:30:00Z</td>\n",
       "      <td>105.320</td>\n",
       "      <td>105.40000</td>\n",
       "      <td>102.6300</td>\n",
       "      <td>103.0600</td>\n",
       "      <td>97.877135</td>\n",
       "      <td>97.027063</td>\n",
       "    </tr>\n",
       "    <tr>\n",
       "      <th>1383</th>\n",
       "      <td>2023-03-28T13:30:00Z</td>\n",
       "      <td>103.000</td>\n",
       "      <td>103.00000</td>\n",
       "      <td>100.2800</td>\n",
       "      <td>101.3600</td>\n",
       "      <td>98.070628</td>\n",
       "      <td>97.425115</td>\n",
       "    </tr>\n",
       "    <tr>\n",
       "      <th>1384</th>\n",
       "      <td>2023-03-29T13:30:00Z</td>\n",
       "      <td>102.720</td>\n",
       "      <td>102.82000</td>\n",
       "      <td>101.0300</td>\n",
       "      <td>101.9000</td>\n",
       "      <td>98.283370</td>\n",
       "      <td>97.775275</td>\n",
       "    </tr>\n",
       "    <tr>\n",
       "      <th>1385</th>\n",
       "      <td>2023-03-30T13:30:00Z</td>\n",
       "      <td>101.440</td>\n",
       "      <td>101.61000</td>\n",
       "      <td>100.2900</td>\n",
       "      <td>101.3200</td>\n",
       "      <td>98.452072</td>\n",
       "      <td>98.051093</td>\n",
       "    </tr>\n",
       "    <tr>\n",
       "      <th>1386</th>\n",
       "      <td>2023-03-31T13:30:00Z</td>\n",
       "      <td>101.710</td>\n",
       "      <td>104.19000</td>\n",
       "      <td>101.4400</td>\n",
       "      <td>104.0000</td>\n",
       "      <td>98.760290</td>\n",
       "      <td>98.288699</td>\n",
       "    </tr>\n",
       "  </tbody>\n",
       "</table>\n",
       "<p>1387 rows × 7 columns</p>\n",
       "</div>"
      ],
      "text/plain": [
       "                      time     open       high       low     close        EMA   \n",
       "0     2017-09-27T13:30:00Z   46.387   47.49500   46.3870   47.2245  46.418617  \\\n",
       "1     2017-09-28T13:30:00Z   47.068   47.53450   47.0275   47.4750  46.477305   \n",
       "2     2017-09-29T13:30:00Z   47.600   47.98932   47.5755   47.9555  46.559427   \n",
       "3     2017-10-02T13:30:00Z   47.999   48.12700   47.3920   47.6635  46.620764   \n",
       "4     2017-10-03T13:30:00Z   47.700   47.90000   47.4570   47.8895  46.691250   \n",
       "...                    ...      ...        ...       ...       ...        ...   \n",
       "1382  2023-03-27T13:30:00Z  105.320  105.40000  102.6300  103.0600  97.877135   \n",
       "1383  2023-03-28T13:30:00Z  103.000  103.00000  100.2800  101.3600  98.070628   \n",
       "1384  2023-03-29T13:30:00Z  102.720  102.82000  101.0300  101.9000  98.283370   \n",
       "1385  2023-03-30T13:30:00Z  101.440  101.61000  100.2900  101.3200  98.452072   \n",
       "1386  2023-03-31T13:30:00Z  101.710  104.19000  101.4400  104.0000  98.760290   \n",
       "\n",
       "      Smoothing Line  \n",
       "0          46.392656  \n",
       "1          46.408814  \n",
       "2          46.441063  \n",
       "3          46.489465  \n",
       "4          46.553473  \n",
       "...              ...  \n",
       "1382       97.027063  \n",
       "1383       97.425115  \n",
       "1384       97.775275  \n",
       "1385       98.051093  \n",
       "1386       98.288699  \n",
       "\n",
       "[1387 rows x 7 columns]"
      ]
     },
     "execution_count": 119,
     "metadata": {},
     "output_type": "execute_result"
    }
   ],
   "source": [
    "#initial read\n",
    "df = pd.read_csv(\"GOOG_1D_EMA_35.csv\")\n",
    "# df2 = pd.read_csv(\"BATS_GOOG, 1D.csv\")\n",
    "df"
   ]
  },
  {
   "attachments": {},
   "cell_type": "markdown",
   "metadata": {},
   "source": [
    "# EMA 35 Check"
   ]
  },
  {
   "cell_type": "code",
   "execution_count": 120,
   "metadata": {},
   "outputs": [
    {
     "name": "stdout",
     "output_type": "stream",
     "text": [
      "                      time     open        high       low     close   \n",
      "613   2020-03-06T14:30:00Z   63.853   65.311000   63.0525   64.9205  \\\n",
      "614   2020-03-09T13:30:00Z   60.265   62.737995   60.0000   60.7780   \n",
      "615   2020-03-10T13:30:00Z   63.000   64.057500   60.9385   64.0195   \n",
      "616   2020-03-11T13:30:00Z   62.485   63.048000   59.8035   60.7705   \n",
      "617   2020-03-12T13:30:00Z   56.300   59.693500   55.6650   55.7455   \n",
      "...                    ...      ...         ...       ...       ...   \n",
      "1376  2023-03-17T13:30:00Z  100.840  103.490000  100.7500  102.4600   \n",
      "1377  2023-03-20T13:30:00Z  101.060  102.580000  100.7900  101.9300   \n",
      "1378  2023-03-21T13:30:00Z  101.980  105.960000  101.8600  105.8400   \n",
      "1379  2023-03-22T13:30:00Z  105.140  107.510000  104.2100  104.2200   \n",
      "1380  2023-03-23T13:30:00Z  105.890  107.100900  105.4100  106.2600   \n",
      "\n",
      "            EMA  Smoothing Line  EMA_PANDAS_TA  \n",
      "613   70.703418       71.254393      70.703418  \n",
      "614   70.152006       70.940771      70.152006  \n",
      "615   69.811311       70.610684      69.811311  \n",
      "616   69.309044       70.203874      69.309044  \n",
      "617   68.555514       69.706258      68.555514  \n",
      "...         ...             ...            ...  \n",
      "1376  95.128405       94.505355      95.128405  \n",
      "1377  95.506271       94.769057      95.506271  \n",
      "1378  96.080367       95.146887      96.080367  \n",
      "1379  96.532569       95.588949      96.532569  \n",
      "1380  97.072982       96.064119      97.072982  \n",
      "\n",
      "[637 rows x 8 columns]\n",
      "------------------------------------------------------------------------------\n",
      "------------------------------------------------------------------------------\n",
      "ADX.run(\n",
      "    high,\n",
      "    low,\n",
      "    close,\n",
      "    length=Default(value=None),\n",
      "    lensig=Default(value=None),\n",
      "    scalar=Default(value=None),\n",
      "    mamode=Default(value=None),\n",
      "    drift=Default(value=None),\n",
      "    offset=Default(value=None),\n",
      "    short_name='adx',\n",
      "    hide_params=None,\n",
      "    hide_default=True,\n",
      "    **kwargs\n",
      "):\n",
      "    Run `ADX` indicator.\n",
      "    \n",
      "    * Inputs: `high`, `low`, `close`\n",
      "    * Parameters: `length`, `lensig`, `scalar`, `mamode`, `drift`, `offset`\n",
      "    * Outputs: `adx`, `dmp`, `dmn`\n",
      "    \n",
      "    Pass a list of parameter names as `hide_params` to hide their column levels, or True to hide all.\n",
      "    Set `hide_default` to False to show the column levels of the parameters with a default value.\n",
      "    \n",
      "    Other keyword arguments are passed to `ADX.run_pipeline`.\n"
     ]
    }
   ],
   "source": [
    "# EMA = vbt.IF.from_talib('EMA')\n",
    "EMA = vbt.IF.from_pandas_ta('EMA')\n",
    "# df['EMA_TALIB'] = EMA.run(df['close'], timeperiod = 35).real\n",
    "# df['EMA_DIFF'] = abs(df['EMA_TALIB'] - df['EMA'])\n",
    "df['EMA_PANDAS_TA'] = EMA.run(df['close'], length = 35).ema\n",
    "print(df[df['EMA_PANDAS_TA'] == df['EMA']]) #check when EMA_TV = EMA_TALIB\n",
    "print(\"------------------------------------------------------------------------------\")\n",
    "# print(df)\n",
    "print(\"------------------------------------------------------------------------------\")\n",
    "vbt.phelp(vbt.IF.from_pandas_ta('ADX').run)\n",
    "# print(EMA.__doc__)\n",
    "# vbt.phelp(vbt.IF.list_indicators(\"RSI\"))\n",
    "# px.line(df, x = 'time', y = ['EMA_DIFF'], title = 'EMA vs EMAPYTHON35')\n"
   ]
  },
  {
   "attachments": {},
   "cell_type": "markdown",
   "metadata": {},
   "source": [
    "# RSI "
   ]
  },
  {
   "cell_type": "code",
   "execution_count": 121,
   "metadata": {},
   "outputs": [],
   "source": [
    "df = pd.read_csv(\"GOOG_1D_EMA_35.csv\")"
   ]
  },
  {
   "cell_type": "code",
   "execution_count": 122,
   "metadata": {},
   "outputs": [],
   "source": [
    "def list_of_trades_by_rsi(df) :\n",
    "    df_tmp = pd.DataFrame()\n",
    "    state = 0\n",
    "    for row in range(len(df)) :\n",
    "        tmp = pd.DataFrame({'time': [df.time[row]], \n",
    "                    'close': [df.close[row]], \n",
    "                    'RSI': [df.RSI[row]], \n",
    "                    'entries': [df.entries[row]],\n",
    "                    'exits': [df.exits[row]]})\n",
    "        if df.entries[row] and state == 0 : # df.at[row, 'entries']\n",
    "            df_tmp = pd.concat([df_tmp, tmp], ignore_index=True)\n",
    "            state = 1\n",
    "        if df.exits[row] and state == 1 :\n",
    "            df_tmp = pd.concat([df_tmp, tmp], ignore_index=True)\n",
    "            state = 0\n",
    "    return df_tmp"
   ]
  },
  {
   "cell_type": "code",
   "execution_count": 123,
   "metadata": {},
   "outputs": [
    {
     "name": "stdout",
     "output_type": "stream",
     "text": [
      "------------------------------------------------------------------------------\n",
      "                   time     close        RSI  entries  exits\n",
      "0  2018-02-08T14:30:00Z   50.0760  28.067589     True  False\n",
      "1  2018-06-18T13:30:00Z   58.6730  71.948746    False   True\n",
      "2  2018-10-10T13:30:00Z   54.0610  24.714487     True  False\n",
      "3  2019-03-12T13:30:00Z   59.6600  70.736116    False   True\n",
      "4  2019-06-03T13:30:00Z   51.8115  24.187120     True  False\n",
      "5  2019-07-26T13:30:00Z   62.5205  76.370681    False   True\n",
      "6  2020-02-27T14:30:00Z   65.9045  26.421608     True  False\n",
      "7  2020-08-26T13:30:00Z   82.6190  73.395750    False   True\n",
      "8  2022-01-21T14:30:00Z  130.0920  27.292272     True  False\n",
      "9  2023-01-23T14:30:00Z  101.2100  70.111021    False   True\n"
     ]
    }
   ],
   "source": [
    "rsi = vbt.RSI.run(close=df['close'],window=14)\n",
    "# print(rsi.rsi)\n",
    "entries = rsi.rsi_crossed_below(30)\n",
    "exits = rsi.rsi_crossed_above(70)\n",
    "df['RSI'] = rsi.rsi \n",
    "df['entries'] = entries\n",
    "df['exits'] = exits\n",
    "# print(df)\n",
    "print(\"------------------------------------------------------------------------------\")\n",
    "lot = pd.DataFrame()\n",
    "lot = list_of_trades_by_rsi(df)\n",
    "print(lot)"
   ]
  },
  {
   "cell_type": "code",
   "execution_count": 124,
   "metadata": {},
   "outputs": [],
   "source": [
    "def plot_rsi(rsi, entries, exits):\n",
    "    fig = rsi.plot()  \n",
    "    entries.vbt.signals.plot_as_entries(rsi.rsi, fig=fig)  \n",
    "    exits.vbt.signals.plot_as_exits(rsi.rsi, fig=fig)  \n",
    "    return fig"
   ]
  },
  {
   "attachments": {},
   "cell_type": "markdown",
   "metadata": {},
   "source": [
    "# STAT "
   ]
  },
  {
   "cell_type": "code",
   "execution_count": 142,
   "metadata": {},
   "outputs": [
    {
     "name": "stderr",
     "output_type": "stream",
     "text": [
      "/Users/jib/opt/anaconda3/envs/vectorbt/lib/python3.8/site-packages/vectorbtpro/generic/stats_builder.py:283: UserWarning:\n",
      "\n",
      "Changing the frequency will create a copy of this object. Consider setting it upon object creation to re-use existing cache.\n",
      "\n"
     ]
    },
    {
     "name": "stdout",
     "output_type": "stream",
     "text": [
      "Start                                          0\n",
      "End                                         1386\n",
      "Period                        1387 days 00:00:00\n",
      "Start Value                            1000000.0\n",
      "Min Value                             999998.808\n",
      "Max Value                          1000068.00025\n",
      "End Value                          1000015.68675\n",
      "Total Return [%]                        0.001569\n",
      "Benchmark Return [%]                  119.264018\n",
      "Total Time Exposure [%]                43.763518\n",
      "Max Gross Exposure [%]                  0.015185\n",
      "Max Drawdown [%]                        0.006635\n",
      "Max Drawdown Duration          291 days 00:00:00\n",
      "Total Orders                                  10\n",
      "Total Fees Paid                              0.0\n",
      "Total Trades                                   5\n",
      "Win Rate [%]                                80.0\n",
      "Best Trade [%]                         29.446575\n",
      "Worst Trade [%]                       -21.009304\n",
      "Avg Winning Trade [%]                  18.558575\n",
      "Avg Losing Trade [%]                  -21.009304\n",
      "Avg Winning Trade Duration      89 days 00:00:00\n",
      "Avg Losing Trade Duration      251 days 00:00:00\n",
      "Profit Factor                           1.592456\n",
      "Expectancy                               3.13735\n",
      "Sharpe Ratio                            0.162521\n",
      "Calmar Ratio                            0.062214\n",
      "Omega Ratio                             1.036962\n",
      "Sortino Ratio                           0.231089\n",
      "dtype: object\n",
      "Net Profit -----------------> 15.68674999999999\n"
     ]
    }
   ],
   "source": [
    "rsi = vbt.RSI.run(close=df['close'],window=14)\n",
    "entries = rsi.rsi_crossed_below(30)\n",
    "exits = rsi.rsi_crossed_above(70)\n",
    "clean_entries, clean_exits = entries.vbt.signals.clean(exits) \n",
    "# print(clean_entries)\n",
    "# plot_rsi(rsi, clean_entries, clean_exits).show()\n",
    "init_capital = 1000000\n",
    "#https://vectorbt.pro/pvt_d904e513/documentation/portfolio/from-signals/#custom-outputs\n",
    "pf = vbt.Portfolio.from_signals(df['open'], clean_entries.shift(periods = 1, fill_value = False), clean_exits.shift(periods = 1, fill_value = False), init_cash = init_capital, size = 1, )\n",
    "# vbt.phelp(vbt.Portfolio.from_signals)\n",
    "# print(entries.to_string())\n",
    "#https://vectorbt.dev/api/portfolio/base/#column-group-and-tag-selection\n",
    "print(pf.stats(settings=dict(freq='d'))) \n",
    "print('Net Profit ----------------->',pf.get_total_return() * init_capital)\n",
    "# pf.plot().show()"
   ]
  },
  {
   "attachments": {},
   "cell_type": "markdown",
   "metadata": {},
   "source": [
    "# Pandas TA Strategy\n",
    "A Pandas TA Strategy is a named group of indicators to be run by the strategy method. All Strategies use mulitprocessing except when using the col_names parameter (see below). There are different types of Strategies listed in the following section.\n",
    "\n"
   ]
  },
  {
   "cell_type": "code",
   "execution_count": 126,
   "metadata": {},
   "outputs": [],
   "source": [
    "# # (1) Create the Strategy\n",
    "# MyStrategy = ta.Strategy(\n",
    "#     name=\"DCSMA10\",\n",
    "#     ta=[\n",
    "#         {\"kind\": \"ohlc4\"},\n",
    "#         {\"kind\": \"sma\", \"length\": 10},\n",
    "#         {\"kind\": \"donchian\", \"lower_length\": 10, \"upper_length\": 15},\n",
    "#         {\"kind\": \"ema\", \"close\": \"OHLC4\", \"length\": 10, \"suffix\": \"OHLC4\"},\n",
    "#     ]\n",
    "# )\n",
    "\n",
    "# # (2) Run the Strategy\n",
    "# df.ta.strategy(MyStrategy, **kwargs)"
   ]
  }
 ],
 "metadata": {
  "kernelspec": {
   "display_name": "vectorbt",
   "language": "python",
   "name": "python3"
  },
  "language_info": {
   "codemirror_mode": {
    "name": "ipython",
    "version": 3
   },
   "file_extension": ".py",
   "mimetype": "text/x-python",
   "name": "python",
   "nbconvert_exporter": "python",
   "pygments_lexer": "ipython3",
   "version": "3.8.16"
  },
  "orig_nbformat": 4
 },
 "nbformat": 4,
 "nbformat_minor": 2
}
